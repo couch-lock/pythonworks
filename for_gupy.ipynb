{
  "nbformat": 4,
  "nbformat_minor": 0,
  "metadata": {
    "colab": {
      "provenance": [],
      "toc_visible": true,
      "authorship_tag": "ABX9TyPZsUtuJLQF+XSy3bfzMkeS",
      "include_colab_link": true
    },
    "kernelspec": {
      "name": "python3",
      "display_name": "Python 3"
    },
    "language_info": {
      "name": "python"
    }
  },
  "cells": [
    {
      "cell_type": "markdown",
      "metadata": {
        "id": "view-in-github",
        "colab_type": "text"
      },
      "source": [
        "<a href=\"https://colab.research.google.com/github/gui-medina/pythonworks/blob/main/for_gupy.ipynb\" target=\"_parent\"><img src=\"https://colab.research.google.com/assets/colab-badge.svg\" alt=\"Open In Colab\"/></a>"
      ]
    },
    {
      "cell_type": "code",
      "source": [
        "num = int(input(\"Digite um número: \"))\n",
        "fib = [0, 1]\n",
        "\n",
        "while fib[-1] < num:\n",
        "    fib.append(fib[-1] + fib[-2])\n",
        "\n",
        "if num in fib:\n",
        "    print(f\"O número {num} pertence à sequência de Fibonacci.\")\n",
        "else:\n",
        "    print(f\"O número {num} não pertence à sequência de Fibonacci.\")"
      ],
      "metadata": {
        "id": "sejn_Mf-BU2t"
      },
      "execution_count": null,
      "outputs": []
    },
    {
      "cell_type": "code",
      "source": [
        "import json\n",
        "\n",
        "with open(\"faturamento.json\") as file:\n",
        "    faturamento = json.load(file)\n",
        "\n",
        "media = sum(faturamento) / len(faturamento)\n",
        "\n",
        "menor = min(faturamento)\n",
        "maior = max(faturamento)\n",
        "\n",
        "dias_acima_media = sum(1 for f in faturamento if f > media)\n",
        "\n",
        "print(f\"Menor faturamento diário: R${menor:.2f}\")\n",
        "print(f\"Maior faturamento diário: R${maior:.2f}\")\n",
        "print(f\"Número de dias com faturamento acima da média: {dias_acima_media}\")"
      ],
      "metadata": {
        "id": "RiX3UiXpBoEu"
      },
      "execution_count": null,
      "outputs": []
    },
    {
      "cell_type": "code",
      "source": [
        "faturamento = {\n",
        "    \"SP\": 67836.43,\n",
        "    \"RJ\": 36678.66,\n",
        "    \"MG\": 29229.88,\n",
        "    \"ES\": 27165.48,\n",
        "    \"Outros\": 19849.53\n",
        "}\n",
        "\n",
        "total = sum(faturamento.values())\n",
        "\n",
        "for estado, valor in faturamento.items():\n",
        "    percentual = valor / total * 100\n",
        "    print(f\"{estado}: {percentual:.2f}%\")\n"
      ],
      "metadata": {
        "id": "91dY0KBfBrQO"
      },
      "execution_count": null,
      "outputs": []
    },
    {
      "cell_type": "code",
      "source": [
        "string = \"exemplo de string\"\n",
        "\n",
        "invertida = \"\"\n",
        "\n",
        "for i in range(len(string) - 1, -1, -1):\n",
        "    invertida += string[i]\n",
        "\n",
        "print(invertida)\n"
      ],
      "metadata": {
        "id": "6-vXxz6VBteo"
      },
      "execution_count": null,
      "outputs": []
    }
  ]
}